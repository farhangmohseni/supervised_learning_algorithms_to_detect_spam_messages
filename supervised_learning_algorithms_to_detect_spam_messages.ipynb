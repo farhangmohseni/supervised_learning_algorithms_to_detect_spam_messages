{
 "cells": [
  {
   "cell_type": "markdown",
   "metadata": {},
   "source": [
    "# Supervised learning algorithms to detect spam messages"
   ]
  },
  {
   "cell_type": "markdown",
   "metadata": {},
   "source": [
    "The objective is to compare different supervised machine learning algorthms to detect sapm messages.\n",
    "For this purpose 3 follwing algorithms are compared: \n",
    "- Decision tree classifier\n",
    "- Adaboost ensemble classifier\n",
    "- Support vector machine\n",
    "\n",
    "To classify messages as spam or non-spam, the algortihms are trained on 5572 labeled messages (labeled either spam or ham, i.e. not spam) that are already classified by humans.\n",
    " \n",
    "The dataset was put together by Tiago A. Almeida and José María Gómez Hidalgo, and it can be downloaded from the [The UCI Machine Learning Repository](https://archive.ics.uci.edu/ml/datasets/sms+spam+collection). The dataset can be downloaded directly from this [link](https://dq-content.s3.amazonaws.com/433/SMSSpamCollection). The data collection process is described in more details on this [page](http://www.dt.fee.unicamp.br/~tiago/smsspamcollection/#composition), where there are also some of the authors' papers.\n",
    "\n",
    "\n"
   ]
  },
  {
   "cell_type": "markdown",
   "metadata": {},
   "source": [
    "--------\n",
    "Exploring dataset\n",
    "-----------"
   ]
  },
  {
   "cell_type": "code",
   "execution_count": 1,
   "metadata": {},
   "outputs": [],
   "source": [
    "# installing libraries\n",
    "\n",
    "#%pip install pandas\n",
    "#%pip install numpy\n",
    "#!pip install matplotlib\n",
    "#%pip install -U scikit-learn\n",
    "#%pip install seaborn"
   ]
  },
  {
   "cell_type": "code",
   "execution_count": 28,
   "metadata": {},
   "outputs": [],
   "source": [
    "# importing ibraries\n",
    "\n",
    "import pandas as pd\n",
    "import numpy as np\n",
    "import matplotlib.pyplot as plt\n",
    "%matplotlib inline\n",
    "import seaborn as sns\n",
    "import string\n",
    "from sklearn.tree import DecisionTreeClassifier\n",
    "from sklearn.metrics import roc_auc_score\n",
    "from sklearn.metrics import roc_curve\n",
    "from sklearn.model_selection import cross_val_score, GridSearchCV\n",
    "import time\n",
    "from sklearn.metrics import RocCurveDisplay, auc\n",
    "from sklearn.model_selection import StratifiedKFold\n",
    "from sklearn.model_selection import KFold\n",
    "from sklearn import metrics\n",
    "from sklearn.ensemble import AdaBoostClassifier\n",
    "from sklearn.svm import SVC\n",
    "from matplotlib.colors import Normalize"
   ]
  },
  {
   "cell_type": "code",
   "execution_count": 29,
   "metadata": {
    "collapsed": false,
    "jupyter": {
     "outputs_hidden": false
    }
   },
   "outputs": [],
   "source": [
    "# reading the data\n",
    "data = pd.read_csv('SMSSpamCollection.txt', sep='\\t', header=None,\n",
    "                  names=['Label', 'SMS'])"
   ]
  },
  {
   "cell_type": "code",
   "execution_count": 30,
   "metadata": {
    "collapsed": false,
    "jupyter": {
     "outputs_hidden": false
    }
   },
   "outputs": [
    {
     "data": {
      "text/html": [
       "<div>\n",
       "<style scoped>\n",
       "    .dataframe tbody tr th:only-of-type {\n",
       "        vertical-align: middle;\n",
       "    }\n",
       "\n",
       "    .dataframe tbody tr th {\n",
       "        vertical-align: top;\n",
       "    }\n",
       "\n",
       "    .dataframe thead th {\n",
       "        text-align: right;\n",
       "    }\n",
       "</style>\n",
       "<table border=\"1\" class=\"dataframe\">\n",
       "  <thead>\n",
       "    <tr style=\"text-align: right;\">\n",
       "      <th></th>\n",
       "      <th>Label</th>\n",
       "      <th>SMS</th>\n",
       "    </tr>\n",
       "  </thead>\n",
       "  <tbody>\n",
       "    <tr>\n",
       "      <th>2572</th>\n",
       "      <td>ham</td>\n",
       "      <td>… and don‘t worry we‘ll have finished by march...</td>\n",
       "    </tr>\n",
       "    <tr>\n",
       "      <th>1003</th>\n",
       "      <td>ham</td>\n",
       "      <td>Yes..he is really great..bhaji told kallis bes...</td>\n",
       "    </tr>\n",
       "    <tr>\n",
       "      <th>1968</th>\n",
       "      <td>ham</td>\n",
       "      <td>Even i cant close my eyes you are in me our va...</td>\n",
       "    </tr>\n",
       "    <tr>\n",
       "      <th>5355</th>\n",
       "      <td>ham</td>\n",
       "      <td>Living is very simple.. Loving is also simple....</td>\n",
       "    </tr>\n",
       "    <tr>\n",
       "      <th>4784</th>\n",
       "      <td>ham</td>\n",
       "      <td>Especially since i talk about boston all up in...</td>\n",
       "    </tr>\n",
       "    <tr>\n",
       "      <th>2212</th>\n",
       "      <td>ham</td>\n",
       "      <td>Just gettin a bit arty with my collages at the...</td>\n",
       "    </tr>\n",
       "    <tr>\n",
       "      <th>625</th>\n",
       "      <td>ham</td>\n",
       "      <td>Nah it's straight, if you can just bring bud o...</td>\n",
       "    </tr>\n",
       "    <tr>\n",
       "      <th>3889</th>\n",
       "      <td>ham</td>\n",
       "      <td>ok....take care.umma to you too...</td>\n",
       "    </tr>\n",
       "    <tr>\n",
       "      <th>2804</th>\n",
       "      <td>spam</td>\n",
       "      <td>FreeMsg&gt;FAV XMAS TONES!Reply REAL</td>\n",
       "    </tr>\n",
       "    <tr>\n",
       "      <th>4149</th>\n",
       "      <td>spam</td>\n",
       "      <td>Please call Amanda with regard to renewing or ...</td>\n",
       "    </tr>\n",
       "    <tr>\n",
       "      <th>4391</th>\n",
       "      <td>ham</td>\n",
       "      <td>Do you know why god created gap between your f...</td>\n",
       "    </tr>\n",
       "    <tr>\n",
       "      <th>3268</th>\n",
       "      <td>ham</td>\n",
       "      <td>Ok then i come n pick u at engin?</td>\n",
       "    </tr>\n",
       "    <tr>\n",
       "      <th>5560</th>\n",
       "      <td>ham</td>\n",
       "      <td>Anything lor. Juz both of us lor.</td>\n",
       "    </tr>\n",
       "    <tr>\n",
       "      <th>2481</th>\n",
       "      <td>spam</td>\n",
       "      <td>Urgent! call 09066612661 from landline. Your c...</td>\n",
       "    </tr>\n",
       "    <tr>\n",
       "      <th>2983</th>\n",
       "      <td>ham</td>\n",
       "      <td>Tonight? Yeah, I'd be down for that</td>\n",
       "    </tr>\n",
       "    <tr>\n",
       "      <th>2924</th>\n",
       "      <td>ham</td>\n",
       "      <td>Fine am simply sitting.</td>\n",
       "    </tr>\n",
       "    <tr>\n",
       "      <th>3018</th>\n",
       "      <td>ham</td>\n",
       "      <td>One of the joys in lifeis waking up each daywi...</td>\n",
       "    </tr>\n",
       "    <tr>\n",
       "      <th>3046</th>\n",
       "      <td>ham</td>\n",
       "      <td>Hello, yeah i've just got out of the bath and ...</td>\n",
       "    </tr>\n",
       "    <tr>\n",
       "      <th>5118</th>\n",
       "      <td>ham</td>\n",
       "      <td>Are you driving or training?</td>\n",
       "    </tr>\n",
       "    <tr>\n",
       "      <th>2002</th>\n",
       "      <td>ham</td>\n",
       "      <td>Idea will soon get converted to live:)</td>\n",
       "    </tr>\n",
       "  </tbody>\n",
       "</table>\n",
       "</div>"
      ],
      "text/plain": [
       "     Label                                                SMS\n",
       "2572   ham  … and don‘t worry we‘ll have finished by march...\n",
       "1003   ham  Yes..he is really great..bhaji told kallis bes...\n",
       "1968   ham  Even i cant close my eyes you are in me our va...\n",
       "5355   ham  Living is very simple.. Loving is also simple....\n",
       "4784   ham  Especially since i talk about boston all up in...\n",
       "2212   ham  Just gettin a bit arty with my collages at the...\n",
       "625    ham  Nah it's straight, if you can just bring bud o...\n",
       "3889   ham                 ok....take care.umma to you too...\n",
       "2804  spam                  FreeMsg>FAV XMAS TONES!Reply REAL\n",
       "4149  spam  Please call Amanda with regard to renewing or ...\n",
       "4391   ham  Do you know why god created gap between your f...\n",
       "3268   ham                  Ok then i come n pick u at engin?\n",
       "5560   ham                  Anything lor. Juz both of us lor.\n",
       "2481  spam  Urgent! call 09066612661 from landline. Your c...\n",
       "2983   ham                Tonight? Yeah, I'd be down for that\n",
       "2924   ham                            Fine am simply sitting.\n",
       "3018   ham  One of the joys in lifeis waking up each daywi...\n",
       "3046   ham  Hello, yeah i've just got out of the bath and ...\n",
       "5118   ham                       Are you driving or training?\n",
       "2002   ham             Idea will soon get converted to live:)"
      ]
     },
     "execution_count": 30,
     "metadata": {},
     "output_type": "execute_result"
    }
   ],
   "source": [
    "# some samples from data\n",
    "data.sample(20)"
   ]
  },
  {
   "cell_type": "code",
   "execution_count": 31,
   "metadata": {
    "collapsed": false,
    "jupyter": {
     "outputs_hidden": false
    }
   },
   "outputs": [
    {
     "data": {
      "text/plain": [
       "(5572, 2)"
      ]
     },
     "execution_count": 31,
     "metadata": {},
     "output_type": "execute_result"
    }
   ],
   "source": [
    "# number of rows and columns in dataset\n",
    "data.shape"
   ]
  },
  {
   "cell_type": "markdown",
   "metadata": {},
   "source": [
    "Dataset includes 5572 messages which are labeled either as spam or ham"
   ]
  },
  {
   "cell_type": "code",
   "execution_count": 32,
   "metadata": {},
   "outputs": [
    {
     "name": "stdout",
     "output_type": "stream",
     "text": [
      "<class 'pandas.core.frame.DataFrame'>\n",
      "RangeIndex: 5572 entries, 0 to 5571\n",
      "Data columns (total 2 columns):\n",
      " #   Column  Non-Null Count  Dtype \n",
      "---  ------  --------------  ----- \n",
      " 0   Label   5572 non-null   object\n",
      " 1   SMS     5572 non-null   object\n",
      "dtypes: object(2)\n",
      "memory usage: 87.2+ KB\n"
     ]
    }
   ],
   "source": [
    "data.info()"
   ]
  },
  {
   "cell_type": "markdown",
   "metadata": {},
   "source": [
    "There are no null data in the dataset"
   ]
  },
  {
   "cell_type": "code",
   "execution_count": 33,
   "metadata": {
    "collapsed": false,
    "jupyter": {
     "outputs_hidden": false
    }
   },
   "outputs": [
    {
     "name": "stdout",
     "output_type": "stream",
     "text": [
      "Label\n",
      "ham     86.6\n",
      "spam    13.4\n",
      "Name: proportion, dtype: float64\n"
     ]
    },
    {
     "data": {
      "text/plain": [
       "([<matplotlib.patches.Wedge at 0x7f41c02ac100>,\n",
       "  <matplotlib.patches.Wedge at 0x7f41c0493d90>],\n",
       " [Text(-1.0038714981945518, 0.4497132587689916, 'ham (not spam)'),\n",
       "  Text(1.0038714981945516, -0.4497132587689922, 'spam')])"
      ]
     },
     "execution_count": 33,
     "metadata": {},
     "output_type": "execute_result"
    },
    {
     "data": {
      "image/png": "[encoded data removed]",
      "text/plain": [
       "<Figure size 640x480 with 1 Axes>"
      ]
     },
     "metadata": {},
     "output_type": "display_data"
    }
   ],
   "source": [
    "# percentage of spam and non-spam (ham)\n",
    "print(round(data['Label'].value_counts(normalize=True) * 100, 1))\n",
    "\n",
    "# visualizing the percentage of each class\n",
    "labels = 'ham (not spam)', 'spam'\n",
    "sizes = data['Label'].value_counts(normalize=True) * 100\n",
    "\n",
    "fig, ax = plt.subplots()\n",
    "ax.pie(sizes, labels=labels)\n"
   ]
  },
  {
   "cell_type": "markdown",
   "metadata": {},
   "source": [
    "The chart above shows that the dataset is not balanced: 86.6% of messages are ham and 13.4 of messages are ham."
   ]
  },
  {
   "cell_type": "markdown",
   "metadata": {},
   "source": [
    "-------------\n",
    "Data Cleaning\n",
    "------------"
   ]
  },
  {
   "cell_type": "markdown",
   "metadata": {},
   "source": [
    "#### Letter Case and Punctuaton\n",
    "To avoid extra complication, I first remove all the punctuations and change all letters to lowercase in all messages (otherwise same word with different capitalization is counted multiple times)"
   ]
  },
  {
   "cell_type": "code",
   "execution_count": 34,
   "metadata": {
    "collapsed": false,
    "jupyter": {
     "outputs_hidden": false
    }
   },
   "outputs": [
    {
     "data": {
      "text/html": [
       "<div>\n",
       "<style scoped>\n",
       "    .dataframe tbody tr th:only-of-type {\n",
       "        vertical-align: middle;\n",
       "    }\n",
       "\n",
       "    .dataframe tbody tr th {\n",
       "        vertical-align: top;\n",
       "    }\n",
       "\n",
       "    .dataframe thead th {\n",
       "        text-align: right;\n",
       "    }\n",
       "</style>\n",
       "<table border=\"1\" class=\"dataframe\">\n",
       "  <thead>\n",
       "    <tr style=\"text-align: right;\">\n",
       "      <th></th>\n",
       "      <th>Label</th>\n",
       "      <th>SMS</th>\n",
       "    </tr>\n",
       "  </thead>\n",
       "  <tbody>\n",
       "    <tr>\n",
       "      <th>5552</th>\n",
       "      <td>ham</td>\n",
       "      <td>Have a safe trip to Nigeria. Wish you happines...</td>\n",
       "    </tr>\n",
       "    <tr>\n",
       "      <th>5553</th>\n",
       "      <td>ham</td>\n",
       "      <td>Hahaha..use your brain dear</td>\n",
       "    </tr>\n",
       "    <tr>\n",
       "      <th>5554</th>\n",
       "      <td>ham</td>\n",
       "      <td>Well keep in mind I've only got enough gas for...</td>\n",
       "    </tr>\n",
       "    <tr>\n",
       "      <th>5555</th>\n",
       "      <td>ham</td>\n",
       "      <td>Yeh. Indians was nice. Tho it did kane me off ...</td>\n",
       "    </tr>\n",
       "    <tr>\n",
       "      <th>5556</th>\n",
       "      <td>ham</td>\n",
       "      <td>Yes i have. So that's why u texted. Pshew...mi...</td>\n",
       "    </tr>\n",
       "    <tr>\n",
       "      <th>5557</th>\n",
       "      <td>ham</td>\n",
       "      <td>No. I meant the calculation is the same. That ...</td>\n",
       "    </tr>\n",
       "    <tr>\n",
       "      <th>5558</th>\n",
       "      <td>ham</td>\n",
       "      <td>Sorry, I'll call later</td>\n",
       "    </tr>\n",
       "    <tr>\n",
       "      <th>5559</th>\n",
       "      <td>ham</td>\n",
       "      <td>if you aren't here in the next  &amp;lt;#&amp;gt;  hou...</td>\n",
       "    </tr>\n",
       "    <tr>\n",
       "      <th>5560</th>\n",
       "      <td>ham</td>\n",
       "      <td>Anything lor. Juz both of us lor.</td>\n",
       "    </tr>\n",
       "    <tr>\n",
       "      <th>5561</th>\n",
       "      <td>ham</td>\n",
       "      <td>Get me out of this dump heap. My mom decided t...</td>\n",
       "    </tr>\n",
       "    <tr>\n",
       "      <th>5562</th>\n",
       "      <td>ham</td>\n",
       "      <td>Ok lor... Sony ericsson salesman... I ask shuh...</td>\n",
       "    </tr>\n",
       "    <tr>\n",
       "      <th>5563</th>\n",
       "      <td>ham</td>\n",
       "      <td>Ard 6 like dat lor.</td>\n",
       "    </tr>\n",
       "    <tr>\n",
       "      <th>5564</th>\n",
       "      <td>ham</td>\n",
       "      <td>Why don't you wait 'til at least wednesday to ...</td>\n",
       "    </tr>\n",
       "    <tr>\n",
       "      <th>5565</th>\n",
       "      <td>ham</td>\n",
       "      <td>Huh y lei...</td>\n",
       "    </tr>\n",
       "    <tr>\n",
       "      <th>5566</th>\n",
       "      <td>spam</td>\n",
       "      <td>REMINDER FROM O2: To get 2.50 pounds free call...</td>\n",
       "    </tr>\n",
       "    <tr>\n",
       "      <th>5567</th>\n",
       "      <td>spam</td>\n",
       "      <td>This is the 2nd time we have tried 2 contact u...</td>\n",
       "    </tr>\n",
       "    <tr>\n",
       "      <th>5568</th>\n",
       "      <td>ham</td>\n",
       "      <td>Will ü b going to esplanade fr home?</td>\n",
       "    </tr>\n",
       "    <tr>\n",
       "      <th>5569</th>\n",
       "      <td>ham</td>\n",
       "      <td>Pity, * was in mood for that. So...any other s...</td>\n",
       "    </tr>\n",
       "    <tr>\n",
       "      <th>5570</th>\n",
       "      <td>ham</td>\n",
       "      <td>The guy did some bitching but I acted like i'd...</td>\n",
       "    </tr>\n",
       "    <tr>\n",
       "      <th>5571</th>\n",
       "      <td>ham</td>\n",
       "      <td>Rofl. Its true to its name</td>\n",
       "    </tr>\n",
       "  </tbody>\n",
       "</table>\n",
       "</div>"
      ],
      "text/plain": [
       "     Label                                                SMS\n",
       "5552   ham  Have a safe trip to Nigeria. Wish you happines...\n",
       "5553   ham                        Hahaha..use your brain dear\n",
       "5554   ham  Well keep in mind I've only got enough gas for...\n",
       "5555   ham  Yeh. Indians was nice. Tho it did kane me off ...\n",
       "5556   ham  Yes i have. So that's why u texted. Pshew...mi...\n",
       "5557   ham  No. I meant the calculation is the same. That ...\n",
       "5558   ham                             Sorry, I'll call later\n",
       "5559   ham  if you aren't here in the next  &lt;#&gt;  hou...\n",
       "5560   ham                  Anything lor. Juz both of us lor.\n",
       "5561   ham  Get me out of this dump heap. My mom decided t...\n",
       "5562   ham  Ok lor... Sony ericsson salesman... I ask shuh...\n",
       "5563   ham                                Ard 6 like dat lor.\n",
       "5564   ham  Why don't you wait 'til at least wednesday to ...\n",
       "5565   ham                                       Huh y lei...\n",
       "5566  spam  REMINDER FROM O2: To get 2.50 pounds free call...\n",
       "5567  spam  This is the 2nd time we have tried 2 contact u...\n",
       "5568   ham               Will ü b going to esplanade fr home?\n",
       "5569   ham  Pity, * was in mood for that. So...any other s...\n",
       "5570   ham  The guy did some bitching but I acted like i'd...\n",
       "5571   ham                         Rofl. Its true to its name"
      ]
     },
     "execution_count": 34,
     "metadata": {},
     "output_type": "execute_result"
    }
   ],
   "source": [
    "#some example of messages including punctuations and capital letters\n",
    "data.tail(20)"
   ]
  },
  {
   "cell_type": "markdown",
   "metadata": {},
   "source": [
    "As you see in the examples above, most messages include punctuations and capital letters"
   ]
  },
  {
   "cell_type": "code",
   "execution_count": 35,
   "metadata": {
    "collapsed": false,
    "jupyter": {
     "outputs_hidden": false
    }
   },
   "outputs": [],
   "source": [
    "# removing punctuations and transforming every letter in every word to lower case\n",
    "data['SMS'] = data['SMS'].str.lower()\n",
    "data['SMS'] = data['SMS'].str.translate(str.maketrans('', '', string.punctuation))"
   ]
  },
  {
   "cell_type": "code",
   "execution_count": 37,
   "metadata": {
    "collapsed": false,
    "jupyter": {
     "outputs_hidden": false
    }
   },
   "outputs": [
    {
     "data": {
      "text/html": [
       "<div>\n",
       "<style scoped>\n",
       "    .dataframe tbody tr th:only-of-type {\n",
       "        vertical-align: middle;\n",
       "    }\n",
       "\n",
       "    .dataframe tbody tr th {\n",
       "        vertical-align: top;\n",
       "    }\n",
       "\n",
       "    .dataframe thead th {\n",
       "        text-align: right;\n",
       "    }\n",
       "</style>\n",
       "<table border=\"1\" class=\"dataframe\">\n",
       "  <thead>\n",
       "    <tr style=\"text-align: right;\">\n",
       "      <th></th>\n",
       "      <th>Label</th>\n",
       "      <th>SMS</th>\n",
       "    </tr>\n",
       "  </thead>\n",
       "  <tbody>\n",
       "    <tr>\n",
       "      <th>5552</th>\n",
       "      <td>ham</td>\n",
       "      <td>have a safe trip to nigeria wish you happiness...</td>\n",
       "    </tr>\n",
       "    <tr>\n",
       "      <th>5553</th>\n",
       "      <td>ham</td>\n",
       "      <td>hahahause your brain dear</td>\n",
       "    </tr>\n",
       "    <tr>\n",
       "      <th>5554</th>\n",
       "      <td>ham</td>\n",
       "      <td>well keep in mind ive only got enough gas for ...</td>\n",
       "    </tr>\n",
       "    <tr>\n",
       "      <th>5555</th>\n",
       "      <td>ham</td>\n",
       "      <td>yeh indians was nice tho it did kane me off a ...</td>\n",
       "    </tr>\n",
       "    <tr>\n",
       "      <th>5556</th>\n",
       "      <td>ham</td>\n",
       "      <td>yes i have so thats why u texted pshewmissing ...</td>\n",
       "    </tr>\n",
       "    <tr>\n",
       "      <th>5557</th>\n",
       "      <td>ham</td>\n",
       "      <td>no i meant the calculation is the same that  l...</td>\n",
       "    </tr>\n",
       "    <tr>\n",
       "      <th>5558</th>\n",
       "      <td>ham</td>\n",
       "      <td>sorry ill call later</td>\n",
       "    </tr>\n",
       "    <tr>\n",
       "      <th>5559</th>\n",
       "      <td>ham</td>\n",
       "      <td>if you arent here in the next  ltgt  hours imm...</td>\n",
       "    </tr>\n",
       "    <tr>\n",
       "      <th>5560</th>\n",
       "      <td>ham</td>\n",
       "      <td>anything lor juz both of us lor</td>\n",
       "    </tr>\n",
       "    <tr>\n",
       "      <th>5561</th>\n",
       "      <td>ham</td>\n",
       "      <td>get me out of this dump heap my mom decided to...</td>\n",
       "    </tr>\n",
       "    <tr>\n",
       "      <th>5562</th>\n",
       "      <td>ham</td>\n",
       "      <td>ok lor sony ericsson salesman i ask shuhui the...</td>\n",
       "    </tr>\n",
       "    <tr>\n",
       "      <th>5563</th>\n",
       "      <td>ham</td>\n",
       "      <td>ard 6 like dat lor</td>\n",
       "    </tr>\n",
       "    <tr>\n",
       "      <th>5564</th>\n",
       "      <td>ham</td>\n",
       "      <td>why dont you wait til at least wednesday to se...</td>\n",
       "    </tr>\n",
       "    <tr>\n",
       "      <th>5565</th>\n",
       "      <td>ham</td>\n",
       "      <td>huh y lei</td>\n",
       "    </tr>\n",
       "    <tr>\n",
       "      <th>5566</th>\n",
       "      <td>spam</td>\n",
       "      <td>reminder from o2 to get 250 pounds free call c...</td>\n",
       "    </tr>\n",
       "    <tr>\n",
       "      <th>5567</th>\n",
       "      <td>spam</td>\n",
       "      <td>this is the 2nd time we have tried 2 contact u...</td>\n",
       "    </tr>\n",
       "    <tr>\n",
       "      <th>5568</th>\n",
       "      <td>ham</td>\n",
       "      <td>will ü b going to esplanade fr home</td>\n",
       "    </tr>\n",
       "    <tr>\n",
       "      <th>5569</th>\n",
       "      <td>ham</td>\n",
       "      <td>pity  was in mood for that soany other suggest...</td>\n",
       "    </tr>\n",
       "    <tr>\n",
       "      <th>5570</th>\n",
       "      <td>ham</td>\n",
       "      <td>the guy did some bitching but i acted like id ...</td>\n",
       "    </tr>\n",
       "    <tr>\n",
       "      <th>5571</th>\n",
       "      <td>ham</td>\n",
       "      <td>rofl its true to its name</td>\n",
       "    </tr>\n",
       "  </tbody>\n",
       "</table>\n",
       "</div>"
      ],
      "text/plain": [
       "     Label                                                SMS\n",
       "5552   ham  have a safe trip to nigeria wish you happiness...\n",
       "5553   ham                          hahahause your brain dear\n",
       "5554   ham  well keep in mind ive only got enough gas for ...\n",
       "5555   ham  yeh indians was nice tho it did kane me off a ...\n",
       "5556   ham  yes i have so thats why u texted pshewmissing ...\n",
       "5557   ham  no i meant the calculation is the same that  l...\n",
       "5558   ham                               sorry ill call later\n",
       "5559   ham  if you arent here in the next  ltgt  hours imm...\n",
       "5560   ham                    anything lor juz both of us lor\n",
       "5561   ham  get me out of this dump heap my mom decided to...\n",
       "5562   ham  ok lor sony ericsson salesman i ask shuhui the...\n",
       "5563   ham                                 ard 6 like dat lor\n",
       "5564   ham  why dont you wait til at least wednesday to se...\n",
       "5565   ham                                          huh y lei\n",
       "5566  spam  reminder from o2 to get 250 pounds free call c...\n",
       "5567  spam  this is the 2nd time we have tried 2 contact u...\n",
       "5568   ham                will ü b going to esplanade fr home\n",
       "5569   ham  pity  was in mood for that soany other suggest...\n",
       "5570   ham  the guy did some bitching but i acted like id ...\n",
       "5571   ham                          rofl its true to its name"
      ]
     },
     "execution_count": 37,
     "metadata": {},
     "output_type": "execute_result"
    }
   ],
   "source": [
    "# some example of messages after cleaning: without punctuations and all in small letters\n",
    "data.tail(20)"
   ]
  },
  {
   "cell_type": "markdown",
   "metadata": {},
   "source": [
    "As you see in the examples above the punctuations (and all non alphanumeric letters) are removed and all words are now in small letters"
   ]
  },
  {
   "cell_type": "markdown",
   "metadata": {},
   "source": [
    "#### Creating the Set of Unique Words (Vocabulary)\n",
    "\n",
    "The idea is to find all unique words in all messages. They will be added to the dataset as the header of columns. After, I count the number of each word in each message. The number of counts for each word will be the value of the corresponding column for each message (each row in the dataset). Those coulmns will be the features to train and test the data for different algorthms."
   ]
  },
  {
   "cell_type": "code",
   "execution_count": 38,
   "metadata": {},
   "outputs": [],
   "source": [
    "# transforming each message from the SMS column into a list by splitting the string at the space character\n",
    "data['SMS_split'] = data['SMS'].str.split()"
   ]
  },
  {
   "cell_type": "markdown",
   "metadata": {},
   "source": [
    "First, I split each message to a list of words in the message, like th examples below "
   ]
  },
  {
   "cell_type": "code",
   "execution_count": 39,
   "metadata": {
    "collapsed": false,
    "jupyter": {
     "outputs_hidden": false
    }
   },
   "outputs": [
    {
     "data": {
      "text/html": [
       "<div>\n",
       "<style scoped>\n",
       "    .dataframe tbody tr th:only-of-type {\n",
       "        vertical-align: middle;\n",
       "    }\n",
       "\n",
       "    .dataframe tbody tr th {\n",
       "        vertical-align: top;\n",
       "    }\n",
       "\n",
       "    .dataframe thead th {\n",
       "        text-align: right;\n",
       "    }\n",
       "</style>\n",
       "<table border=\"1\" class=\"dataframe\">\n",
       "  <thead>\n",
       "    <tr style=\"text-align: right;\">\n",
       "      <th></th>\n",
       "      <th>Label</th>\n",
       "      <th>SMS</th>\n",
       "      <th>SMS_split</th>\n",
       "    </tr>\n",
       "  </thead>\n",
       "  <tbody>\n",
       "    <tr>\n",
       "      <th>0</th>\n",
       "      <td>ham</td>\n",
       "      <td>go until jurong point crazy available only in ...</td>\n",
       "      <td>[go, until, jurong, point, crazy, available, o...</td>\n",
       "    </tr>\n",
       "    <tr>\n",
       "      <th>1</th>\n",
       "      <td>ham</td>\n",
       "      <td>ok lar joking wif u oni</td>\n",
       "      <td>[ok, lar, joking, wif, u, oni]</td>\n",
       "    </tr>\n",
       "    <tr>\n",
       "      <th>2</th>\n",
       "      <td>spam</td>\n",
       "      <td>free entry in 2 a wkly comp to win fa cup fina...</td>\n",
       "      <td>[free, entry, in, 2, a, wkly, comp, to, win, f...</td>\n",
       "    </tr>\n",
       "    <tr>\n",
       "      <th>3</th>\n",
       "      <td>ham</td>\n",
       "      <td>u dun say so early hor u c already then say</td>\n",
       "      <td>[u, dun, say, so, early, hor, u, c, already, t...</td>\n",
       "    </tr>\n",
       "    <tr>\n",
       "      <th>4</th>\n",
       "      <td>ham</td>\n",
       "      <td>nah i dont think he goes to usf he lives aroun...</td>\n",
       "      <td>[nah, i, dont, think, he, goes, to, usf, he, l...</td>\n",
       "    </tr>\n",
       "  </tbody>\n",
       "</table>\n",
       "</div>"
      ],
      "text/plain": [
       "  Label                                                SMS  \\\n",
       "0   ham  go until jurong point crazy available only in ...   \n",
       "1   ham                            ok lar joking wif u oni   \n",
       "2  spam  free entry in 2 a wkly comp to win fa cup fina...   \n",
       "3   ham        u dun say so early hor u c already then say   \n",
       "4   ham  nah i dont think he goes to usf he lives aroun...   \n",
       "\n",
       "                                           SMS_split  \n",
       "0  [go, until, jurong, point, crazy, available, o...  \n",
       "1                     [ok, lar, joking, wif, u, oni]  \n",
       "2  [free, entry, in, 2, a, wkly, comp, to, win, f...  \n",
       "3  [u, dun, say, so, early, hor, u, c, already, t...  \n",
       "4  [nah, i, dont, think, he, goes, to, usf, he, l...  "
      ]
     },
     "execution_count": 39,
     "metadata": {},
     "output_type": "execute_result"
    }
   ],
   "source": [
    "data.head()"
   ]
  },
  {
   "cell_type": "markdown",
   "metadata": {},
   "source": [
    "Then, I creat a list of all unique words in all messages"
   ]
  },
  {
   "cell_type": "code",
   "execution_count": 40,
   "metadata": {
    "collapsed": false,
    "jupyter": {
     "outputs_hidden": false
    }
   },
   "outputs": [],
   "source": [
    "# creating a list of all words used in the messages (vocabulary)\n",
    "vocabulary = []\n",
    "for row in data['SMS_split']:\n",
    "    for i in row:\n",
    "        vocabulary.append(i)\n",
    "        \n",
    "vocabulary = list(set(vocabulary))"
   ]
  },
  {
   "cell_type": "code",
   "execution_count": 41,
   "metadata": {
    "collapsed": false,
    "jupyter": {
     "outputs_hidden": false
    }
   },
   "outputs": [
    {
     "data": {
      "text/plain": [
       "['walls',\n",
       " '46',\n",
       " 'anyplaces',\n",
       " 'public',\n",
       " 'mailed',\n",
       " 'american',\n",
       " 'aint',\n",
       " 'urgh',\n",
       " '151',\n",
       " 'mate']"
      ]
     },
     "execution_count": 41,
     "metadata": {},
     "output_type": "execute_result"
    }
   ],
   "source": [
    "# some example of vocabularies\n",
    "vocabulary[:10]"
   ]
  },
  {
   "cell_type": "code",
   "execution_count": 42,
   "metadata": {
    "collapsed": false,
    "jupyter": {
     "outputs_hidden": false
    }
   },
   "outputs": [
    {
     "data": {
      "text/plain": [
       "9661"
      ]
     },
     "execution_count": 42,
     "metadata": {},
     "output_type": "execute_result"
    }
   ],
   "source": [
    "# number of all words\n",
    "len(vocabulary)  "
   ]
  },
  {
   "cell_type": "markdown",
   "metadata": {},
   "source": [
    "In total there are 9661 unique words. Therefore, 9661 features for each message. And, the value of each feature is the count of that world in the message. "
   ]
  },
  {
   "cell_type": "code",
   "execution_count": 43,
   "metadata": {
    "collapsed": false,
    "jupyter": {
     "outputs_hidden": false
    }
   },
   "outputs": [],
   "source": [
    "# counting number of words from \"Vocabulary\" in each SMS\n",
    "dict_count = {i: [0] * len(data['SMS_split']) for i in vocabulary}\n",
    "\n",
    "for index, row in enumerate(data['SMS_split']):\n",
    "    for j in row:\n",
    "        dict_count[j][index] += 1"
   ]
  },
  {
   "cell_type": "code",
   "execution_count": 44,
   "metadata": {
    "collapsed": false,
    "jupyter": {
     "outputs_hidden": false
    }
   },
   "outputs": [],
   "source": [
    "# converting ot dataframe\n",
    "df_count = pd.DataFrame(dict_count)"
   ]
  },
  {
   "cell_type": "code",
   "execution_count": 45,
   "metadata": {
    "collapsed": false,
    "jupyter": {
     "outputs_hidden": false
    }
   },
   "outputs": [
    {
     "data": {
      "text/html": [
       "<div>\n",
       "<style scoped>\n",
       "    .dataframe tbody tr th:only-of-type {\n",
       "        vertical-align: middle;\n",
       "    }\n",
       "\n",
       "    .dataframe tbody tr th {\n",
       "        vertical-align: top;\n",
       "    }\n",
       "\n",
       "    .dataframe thead th {\n",
       "        text-align: right;\n",
       "    }\n",
       "</style>\n",
       "<table border=\"1\" class=\"dataframe\">\n",
       "  <thead>\n",
       "    <tr style=\"text-align: right;\">\n",
       "      <th></th>\n",
       "      <th>walls</th>\n",
       "      <th>46</th>\n",
       "      <th>anyplaces</th>\n",
       "      <th>public</th>\n",
       "      <th>mailed</th>\n",
       "      <th>american</th>\n",
       "      <th>aint</th>\n",
       "      <th>urgh</th>\n",
       "      <th>151</th>\n",
       "      <th>mate</th>\n",
       "      <th>...</th>\n",
       "      <th>hail</th>\n",
       "      <th>deal</th>\n",
       "      <th>proof</th>\n",
       "      <th>shirt</th>\n",
       "      <th>response</th>\n",
       "      <th>bathe</th>\n",
       "      <th>locks</th>\n",
       "      <th>ldn</th>\n",
       "      <th>0207</th>\n",
       "      <th>mum</th>\n",
       "    </tr>\n",
       "  </thead>\n",
       "  <tbody>\n",
       "    <tr>\n",
       "      <th>0</th>\n",
       "      <td>0</td>\n",
       "      <td>0</td>\n",
       "      <td>0</td>\n",
       "      <td>0</td>\n",
       "      <td>0</td>\n",
       "      <td>0</td>\n",
       "      <td>0</td>\n",
       "      <td>0</td>\n",
       "      <td>0</td>\n",
       "      <td>0</td>\n",
       "      <td>...</td>\n",
       "      <td>0</td>\n",
       "      <td>0</td>\n",
       "      <td>0</td>\n",
       "      <td>0</td>\n",
       "      <td>0</td>\n",
       "      <td>0</td>\n",
       "      <td>0</td>\n",
       "      <td>0</td>\n",
       "      <td>0</td>\n",
       "      <td>0</td>\n",
       "    </tr>\n",
       "    <tr>\n",
       "      <th>1</th>\n",
       "      <td>0</td>\n",
       "      <td>0</td>\n",
       "      <td>0</td>\n",
       "      <td>0</td>\n",
       "      <td>0</td>\n",
       "      <td>0</td>\n",
       "      <td>0</td>\n",
       "      <td>0</td>\n",
       "      <td>0</td>\n",
       "      <td>0</td>\n",
       "      <td>...</td>\n",
       "      <td>0</td>\n",
       "      <td>0</td>\n",
       "      <td>0</td>\n",
       "      <td>0</td>\n",
       "      <td>0</td>\n",
       "      <td>0</td>\n",
       "      <td>0</td>\n",
       "      <td>0</td>\n",
       "      <td>0</td>\n",
       "      <td>0</td>\n",
       "    </tr>\n",
       "    <tr>\n",
       "      <th>2</th>\n",
       "      <td>0</td>\n",
       "      <td>0</td>\n",
       "      <td>0</td>\n",
       "      <td>0</td>\n",
       "      <td>0</td>\n",
       "      <td>0</td>\n",
       "      <td>0</td>\n",
       "      <td>0</td>\n",
       "      <td>0</td>\n",
       "      <td>0</td>\n",
       "      <td>...</td>\n",
       "      <td>0</td>\n",
       "      <td>0</td>\n",
       "      <td>0</td>\n",
       "      <td>0</td>\n",
       "      <td>0</td>\n",
       "      <td>0</td>\n",
       "      <td>0</td>\n",
       "      <td>0</td>\n",
       "      <td>0</td>\n",
       "      <td>0</td>\n",
       "    </tr>\n",
       "    <tr>\n",
       "      <th>3</th>\n",
       "      <td>0</td>\n",
       "      <td>0</td>\n",
       "      <td>0</td>\n",
       "      <td>0</td>\n",
       "      <td>0</td>\n",
       "      <td>0</td>\n",
       "      <td>0</td>\n",
       "      <td>0</td>\n",
       "      <td>0</td>\n",
       "      <td>0</td>\n",
       "      <td>...</td>\n",
       "      <td>0</td>\n",
       "      <td>0</td>\n",
       "      <td>0</td>\n",
       "      <td>0</td>\n",
       "      <td>0</td>\n",
       "      <td>0</td>\n",
       "      <td>0</td>\n",
       "      <td>0</td>\n",
       "      <td>0</td>\n",
       "      <td>0</td>\n",
       "    </tr>\n",
       "    <tr>\n",
       "      <th>4</th>\n",
       "      <td>0</td>\n",
       "      <td>0</td>\n",
       "      <td>0</td>\n",
       "      <td>0</td>\n",
       "      <td>0</td>\n",
       "      <td>0</td>\n",
       "      <td>0</td>\n",
       "      <td>0</td>\n",
       "      <td>0</td>\n",
       "      <td>0</td>\n",
       "      <td>...</td>\n",
       "      <td>0</td>\n",
       "      <td>0</td>\n",
       "      <td>0</td>\n",
       "      <td>0</td>\n",
       "      <td>0</td>\n",
       "      <td>0</td>\n",
       "      <td>0</td>\n",
       "      <td>0</td>\n",
       "      <td>0</td>\n",
       "      <td>0</td>\n",
       "    </tr>\n",
       "  </tbody>\n",
       "</table>\n",
       "<p>5 rows × 9661 columns</p>\n",
       "</div>"
      ],
      "text/plain": [
       "   walls  46  anyplaces  public  mailed  american  aint  urgh  151  mate  ...  \\\n",
       "0      0   0          0       0       0         0     0     0    0     0  ...   \n",
       "1      0   0          0       0       0         0     0     0    0     0  ...   \n",
       "2      0   0          0       0       0         0     0     0    0     0  ...   \n",
       "3      0   0          0       0       0         0     0     0    0     0  ...   \n",
       "4      0   0          0       0       0         0     0     0    0     0  ...   \n",
       "\n",
       "   hail  deal  proof  shirt  response  bathe  locks  ldn  0207  mum  \n",
       "0     0     0      0      0         0      0      0    0     0    0  \n",
       "1     0     0      0      0         0      0      0    0     0    0  \n",
       "2     0     0      0      0         0      0      0    0     0    0  \n",
       "3     0     0      0      0         0      0      0    0     0    0  \n",
       "4     0     0      0      0         0      0      0    0     0    0  \n",
       "\n",
       "[5 rows x 9661 columns]"
      ]
     },
     "execution_count": 45,
     "metadata": {},
     "output_type": "execute_result"
    }
   ],
   "source": [
    "#some examples of count dataframe\n",
    "df_count.head()"
   ]
  },
  {
   "cell_type": "markdown",
   "metadata": {},
   "source": [
    "Above are some examples of the new dataframe that will be added to the original dataframe "
   ]
  },
  {
   "cell_type": "markdown",
   "metadata": {},
   "source": [
    "#### Final dataset"
   ]
  },
  {
   "cell_type": "code",
   "execution_count": 46,
   "metadata": {
    "collapsed": false,
    "jupyter": {
     "outputs_hidden": false
    }
   },
   "outputs": [],
   "source": [
    "# adding the label column to get final data set\n",
    "data = pd.concat([data, df_count], axis='columns')"
   ]
  },
  {
   "cell_type": "code",
   "execution_count": 47,
   "metadata": {
    "collapsed": false,
    "jupyter": {
     "outputs_hidden": false
    }
   },
   "outputs": [
    {
     "data": {
      "text/html": [
       "<div>\n",
       "<style scoped>\n",
       "    .dataframe tbody tr th:only-of-type {\n",
       "        vertical-align: middle;\n",
       "    }\n",
       "\n",
       "    .dataframe tbody tr th {\n",
       "        vertical-align: top;\n",
       "    }\n",
       "\n",
       "    .dataframe thead th {\n",
       "        text-align: right;\n",
       "    }\n",
       "</style>\n",
       "<table border=\"1\" class=\"dataframe\">\n",
       "  <thead>\n",
       "    <tr style=\"text-align: right;\">\n",
       "      <th></th>\n",
       "      <th>Label</th>\n",
       "      <th>SMS</th>\n",
       "      <th>SMS_split</th>\n",
       "      <th>walls</th>\n",
       "      <th>46</th>\n",
       "      <th>anyplaces</th>\n",
       "      <th>public</th>\n",
       "      <th>mailed</th>\n",
       "      <th>american</th>\n",
       "      <th>aint</th>\n",
       "      <th>...</th>\n",
       "      <th>hail</th>\n",
       "      <th>deal</th>\n",
       "      <th>proof</th>\n",
       "      <th>shirt</th>\n",
       "      <th>response</th>\n",
       "      <th>bathe</th>\n",
       "      <th>locks</th>\n",
       "      <th>ldn</th>\n",
       "      <th>0207</th>\n",
       "      <th>mum</th>\n",
       "    </tr>\n",
       "  </thead>\n",
       "  <tbody>\n",
       "    <tr>\n",
       "      <th>3268</th>\n",
       "      <td>ham</td>\n",
       "      <td>ok then i come n pick u at engin</td>\n",
       "      <td>[ok, then, i, come, n, pick, u, at, engin]</td>\n",
       "      <td>0</td>\n",
       "      <td>0</td>\n",
       "      <td>0</td>\n",
       "      <td>0</td>\n",
       "      <td>0</td>\n",
       "      <td>0</td>\n",
       "      <td>0</td>\n",
       "      <td>...</td>\n",
       "      <td>0</td>\n",
       "      <td>0</td>\n",
       "      <td>0</td>\n",
       "      <td>0</td>\n",
       "      <td>0</td>\n",
       "      <td>0</td>\n",
       "      <td>0</td>\n",
       "      <td>0</td>\n",
       "      <td>0</td>\n",
       "      <td>0</td>\n",
       "    </tr>\n",
       "    <tr>\n",
       "      <th>1839</th>\n",
       "      <td>spam</td>\n",
       "      <td>hack chat get backdoor entry into 121 chat roo...</td>\n",
       "      <td>[hack, chat, get, backdoor, entry, into, 121, ...</td>\n",
       "      <td>0</td>\n",
       "      <td>0</td>\n",
       "      <td>0</td>\n",
       "      <td>0</td>\n",
       "      <td>0</td>\n",
       "      <td>0</td>\n",
       "      <td>0</td>\n",
       "      <td>...</td>\n",
       "      <td>0</td>\n",
       "      <td>0</td>\n",
       "      <td>0</td>\n",
       "      <td>0</td>\n",
       "      <td>0</td>\n",
       "      <td>0</td>\n",
       "      <td>0</td>\n",
       "      <td>1</td>\n",
       "      <td>0</td>\n",
       "      <td>0</td>\n",
       "    </tr>\n",
       "    <tr>\n",
       "      <th>254</th>\n",
       "      <td>ham</td>\n",
       "      <td>ups which is 3days also and the shipping compa...</td>\n",
       "      <td>[ups, which, is, 3days, also, and, the, shippi...</td>\n",
       "      <td>0</td>\n",
       "      <td>0</td>\n",
       "      <td>0</td>\n",
       "      <td>0</td>\n",
       "      <td>0</td>\n",
       "      <td>0</td>\n",
       "      <td>0</td>\n",
       "      <td>...</td>\n",
       "      <td>0</td>\n",
       "      <td>0</td>\n",
       "      <td>0</td>\n",
       "      <td>0</td>\n",
       "      <td>0</td>\n",
       "      <td>0</td>\n",
       "      <td>0</td>\n",
       "      <td>0</td>\n",
       "      <td>0</td>\n",
       "      <td>0</td>\n",
       "    </tr>\n",
       "    <tr>\n",
       "      <th>1635</th>\n",
       "      <td>spam</td>\n",
       "      <td>eerie nokia tones 4u rply tone title to 8007 e...</td>\n",
       "      <td>[eerie, nokia, tones, 4u, rply, tone, title, t...</td>\n",
       "      <td>0</td>\n",
       "      <td>0</td>\n",
       "      <td>0</td>\n",
       "      <td>0</td>\n",
       "      <td>0</td>\n",
       "      <td>0</td>\n",
       "      <td>0</td>\n",
       "      <td>...</td>\n",
       "      <td>0</td>\n",
       "      <td>0</td>\n",
       "      <td>0</td>\n",
       "      <td>0</td>\n",
       "      <td>0</td>\n",
       "      <td>0</td>\n",
       "      <td>0</td>\n",
       "      <td>0</td>\n",
       "      <td>0</td>\n",
       "      <td>0</td>\n",
       "    </tr>\n",
       "    <tr>\n",
       "      <th>821</th>\n",
       "      <td>ham</td>\n",
       "      <td>good afternoon starshine hows my boytoy does h...</td>\n",
       "      <td>[good, afternoon, starshine, hows, my, boytoy,...</td>\n",
       "      <td>0</td>\n",
       "      <td>0</td>\n",
       "      <td>0</td>\n",
       "      <td>0</td>\n",
       "      <td>0</td>\n",
       "      <td>0</td>\n",
       "      <td>0</td>\n",
       "      <td>...</td>\n",
       "      <td>0</td>\n",
       "      <td>0</td>\n",
       "      <td>0</td>\n",
       "      <td>0</td>\n",
       "      <td>0</td>\n",
       "      <td>0</td>\n",
       "      <td>0</td>\n",
       "      <td>0</td>\n",
       "      <td>0</td>\n",
       "      <td>0</td>\n",
       "    </tr>\n",
       "  </tbody>\n",
       "</table>\n",
       "<p>5 rows × 9664 columns</p>\n",
       "</div>"
      ],
      "text/plain": [
       "     Label                                                SMS  \\\n",
       "3268   ham                   ok then i come n pick u at engin   \n",
       "1839  spam  hack chat get backdoor entry into 121 chat roo...   \n",
       "254    ham  ups which is 3days also and the shipping compa...   \n",
       "1635  spam  eerie nokia tones 4u rply tone title to 8007 e...   \n",
       "821    ham  good afternoon starshine hows my boytoy does h...   \n",
       "\n",
       "                                              SMS_split  walls  46  anyplaces  \\\n",
       "3268         [ok, then, i, come, n, pick, u, at, engin]      0   0          0   \n",
       "1839  [hack, chat, get, backdoor, entry, into, 121, ...      0   0          0   \n",
       "254   [ups, which, is, 3days, also, and, the, shippi...      0   0          0   \n",
       "1635  [eerie, nokia, tones, 4u, rply, tone, title, t...      0   0          0   \n",
       "821   [good, afternoon, starshine, hows, my, boytoy,...      0   0          0   \n",
       "\n",
       "      public  mailed  american  aint  ...  hail  deal  proof  shirt  response  \\\n",
       "3268       0       0         0     0  ...     0     0      0      0         0   \n",
       "1839       0       0         0     0  ...     0     0      0      0         0   \n",
       "254        0       0         0     0  ...     0     0      0      0         0   \n",
       "1635       0       0         0     0  ...     0     0      0      0         0   \n",
       "821        0       0         0     0  ...     0     0      0      0         0   \n",
       "\n",
       "      bathe  locks  ldn  0207  mum  \n",
       "3268      0      0    0     0    0  \n",
       "1839      0      0    1     0    0  \n",
       "254       0      0    0     0    0  \n",
       "1635      0      0    0     0    0  \n",
       "821       0      0    0     0    0  \n",
       "\n",
       "[5 rows x 9664 columns]"
      ]
     },
     "execution_count": 47,
     "metadata": {},
     "output_type": "execute_result"
    }
   ],
   "source": [
    "# some example of final data set\n",
    "data.sample(5)"
   ]
  },
  {
   "cell_type": "markdown",
   "metadata": {},
   "source": [
    "Above are some examples of the final dataset: 5572 rows (messages) and 9664 columns out of which one is the \"label\" and 9661 are the unique words"
   ]
  },
  {
   "cell_type": "markdown",
   "metadata": {},
   "source": [
    "------------\n",
    "Exploratory data analysis\n",
    "-----"
   ]
  },
  {
   "cell_type": "markdown",
   "metadata": {},
   "source": [
    "By exploring the data, I found the following 2 aspects to be different between spam and ham messages :\n",
    "- number of words in a message\n",
    "- most frequent words"
   ]
  },
  {
   "cell_type": "markdown",
   "metadata": {},
   "source": [
    "#### Number of words in a message"
   ]
  },
  {
   "cell_type": "code",
   "execution_count": 48,
   "metadata": {},
   "outputs": [
    {
     "data": {
      "text/plain": [
       "Text(0.5, 0, 'Number of words in SMS')"
      ]
     },
     "execution_count": 48,
     "metadata": {},
     "output_type": "execute_result"
    },
    {
     "data": {
      "image/png": "[encoded data removed]",
      "text/plain": [
       "<Figure size 640x480 with 1 Axes>"
      ]
     },
     "metadata": {},
     "output_type": "display_data"
    }
   ],
   "source": [
    "# counting and plotting the histogram of total number of words in each SMS for ham and SPAM messages \n",
    "\n",
    "data[data['Label']=='ham'].sum(axis=1, numeric_only=True).hist(bins=50, label='ham')\n",
    "data[data['Label']=='spam'].sum(axis=1, numeric_only=True).hist(bins=50, label='spam')\n",
    "\n",
    "plt.legend(loc=\"upper right\")\n",
    "plt.title(\"Comparison of number of words between spam and ham\")\n",
    "plt.ylabel('Count')\n",
    "plt.xlabel('Number of words in SMS')"
   ]
  },
  {
   "cell_type": "markdown",
   "metadata": {},
   "source": [
    "The histograms shows that, for ham messages the most common lenght of a message is about 10 words, while for spam message this value is more than 25."
   ]
  },
  {
   "cell_type": "markdown",
   "metadata": {},
   "source": [
    "#### Most common words in ham and spam messages"
   ]
  },
  {
   "cell_type": "code",
   "execution_count": 49,
   "metadata": {},
   "outputs": [
    {
     "name": "stdout",
     "output_type": "stream",
     "text": [
      "\n",
      " **********20 most common words in ham messages: ************ \n",
      " i       2194\n",
      "you     1841\n",
      "to      1562\n",
      "the     1129\n",
      "a       1064\n",
      "u        985\n",
      "and      849\n",
      "in       815\n",
      "me       761\n",
      "my       747\n",
      "is       735\n",
      "it       594\n",
      "of       525\n",
      "for      507\n",
      "that     488\n",
      "im       451\n",
      "have     441\n",
      "but      425\n",
      "your     414\n",
      "so       413\n",
      "dtype: int64\n",
      "\n",
      " **********20 most common words in spma messages: ************ \n",
      " to        689\n",
      "a         378\n",
      "call      347\n",
      "you       287\n",
      "your      263\n",
      "free      216\n",
      "the       204\n",
      "for       203\n",
      "now       189\n",
      "or        188\n",
      "2         173\n",
      "is        158\n",
      "txt       150\n",
      "u         147\n",
      "on        145\n",
      "ur        144\n",
      "have      135\n",
      "from      128\n",
      "mobile    123\n",
      "and       122\n",
      "dtype: int64\n"
     ]
    }
   ],
   "source": [
    "# finding the most frequent words in each class (ham or spam)\n",
    "cols_words = data.columns.difference(['Label', 'SMS', 'SMS_split'])\n",
    "X = data[cols_words]\n",
    "y = data['Label']\n",
    "print('\\n **********20 most common words in ham messages: ************ \\n', \n",
    "      X[y =='ham'].sum(axis=0).sort_values(ascending=False)[0:20])\n",
    "print('\\n **********20 most common words in spma messages: ************ \\n', \n",
    "      X[y =='spam'].sum(axis=0).sort_values(ascending=False)[0:20])"
   ]
  },
  {
   "cell_type": "markdown",
   "metadata": {},
   "source": [
    "One can see that while for ham message the most common words are the expected ones (I, you, to, the, a, ...), for spam message, interestingly, among the 20 most common words one can find less expected words like: call, free, now, mobile.\n",
    "\n",
    "This can be an indication that a good algorithm might be able to classify spam from ham messages by looking at the words in the message.\n"
   ]
  },
  {
   "cell_type": "markdown",
   "metadata": {},
   "source": [
    "-------\n",
    "Decision Tree Classifier:\n",
    "------"
   ]
  },
  {
   "cell_type": "markdown",
   "metadata": {},
   "source": [
    "First algorithm that I consider is a decision tree classifier. I first consider the basic algorithm and measure the accuracy (using cross vlaidation) as well as the execution time. "
   ]
  },
  {
   "cell_type": "code",
   "execution_count": 50,
   "metadata": {},
   "outputs": [
    {
     "name": "stdout",
     "output_type": "stream",
     "text": [
      "Process time (CV=3):  9.664050277000001 s \n",
      "\n",
      "Cross-validation scores:  [0.96555436 0.9628433  0.9644588 ] \n",
      "\n",
      "Avergae of cross-validation scores:  0.9642854865626411\n"
     ]
    }
   ],
   "source": [
    "# decision tree clasifier with default settings\n",
    "\n",
    "clf_DT = DecisionTreeClassifier()\n",
    "\n",
    "# to measure exceution time (with cross validation cv=3)\n",
    "start = time.process_time()\n",
    "# calculating cross validation scaore (cv=3) fro the model\n",
    "clf_DT_score_cv= cross_val_score(clf_DT, X, y, cv=3)\n",
    "\n",
    "print('Process time (CV=3): ', time.process_time() - start, 's \\n')\n",
    "print('Cross-validation scores: ', clf_DT_score_cv, '\\n')\n",
    "\n",
    "# calculating average cross validation score (cv=3)\n",
    "clf_DT_score_cv_avg = np.mean(clf_DT_score_cv) \n",
    "print('Avergae of cross-validation scores: ', clf_DT_score_cv_avg)\n"
   ]
  },
  {
   "cell_type": "markdown",
   "metadata": {},
   "source": [
    "#### Hyperparameter tuning\n",
    "After, I perform a hyperparameter tuning (using grid search) on two hyper parameters, namely criterion (gini or entropy) and class weight (none or balanced). \n",
    "Note that, since I am going to use the result of Decision tree model as my baseline, I don't perform a full hyperparameter optimization on all the parameters."
   ]
  },
  {
   "cell_type": "code",
   "execution_count": 51,
   "metadata": {},
   "outputs": [],
   "source": [
    "# performing grid search on criterion and class_weight\n",
    "params = {\n",
    "    'criterion': ['gini', 'entropy'], \n",
    "    'class_weight' : [None, 'balanced']\n",
    "}\n",
    "\n",
    "grid_DT = GridSearchCV(estimator=clf_DT,param_grid=params, cv=3).fit(X, y)"
   ]
  },
  {
   "cell_type": "code",
   "execution_count": 53,
   "metadata": {},
   "outputs": [
    {
     "name": "stdout",
     "output_type": "stream",
     "text": [
      "Best parameters:  {'class_weight': None, 'criterion': 'gini'}\n",
      "best score:  0.9639267744174962\n"
     ]
    }
   ],
   "source": [
    "print('Best parameters: ', grid_DT.best_params_)\n",
    "print('best score: ', grid_DT.best_score_)"
   ]
  },
  {
   "cell_type": "markdown",
   "metadata": {},
   "source": [
    "The results show that the 'class_weight': None and 'criterion': 'gini' are the best hyperparameters. I measure once again the run time using the \"best model\": which shows that the model takes 9.4 s to run with accuracy of 0.96 (cross validation cv=3)"
   ]
  },
  {
   "cell_type": "code",
   "execution_count": 61,
   "metadata": {},
   "outputs": [
    {
     "name": "stdout",
     "output_type": "stream",
     "text": [
      "Process time (CV=3):  9.410705172000007 s \n",
      "\n"
     ]
    }
   ],
   "source": [
    "# measure time needed ot run the best model (with cross validation cv=3)\n",
    "start = time.process_time()\n",
    "clf_DT_score_cv= cross_val_score(grid_DT.best_estimator_, X, y, cv=3)\n",
    "print('Process time (CV=3): ', time.process_time() - start, 's \\n')"
   ]
  },
  {
   "cell_type": "markdown",
   "metadata": {},
   "source": [
    "As seen eralier, the calsses (spam vs ham) are not balanced in the dataset (about 87% ham vs 13% spam). Therefore, it is good that, in addiotin to the value of the accuracy, we also consider the reciever operation characterisitc (ROC curve of ture positve rate vs. false positive rate) and the aera under curve (AUC) value."
   ]
  },
  {
   "cell_type": "markdown",
   "metadata": {},
   "source": [
    "#### ROC plot"
   ]
  },
  {
   "cell_type": "markdown",
   "metadata": {},
   "source": [
    "Below is a function that generates the ROC curves for a k-fold cross validation results and plots the mean ROC curve and caculates the average AUC value (with its standard deviation)."
   ]
  },
  {
   "cell_type": "code",
   "execution_count": 55,
   "metadata": {},
   "outputs": [],
   "source": [
    "# function to plot ROC curve for all folds of cross validation + the mean values + the aera under curve (AUC) \n",
    "def ROC_curve(X, y, classifier, cv, plot_title):\n",
    "    cv = StratifiedKFold(n_splits=cv, shuffle=True, random_state=0)\n",
    "    # Run classifier with cross-validation and plot ROC curves\n",
    "    \n",
    "    tprs = []\n",
    "    aucs = []\n",
    "    mean_fpr = np.linspace(0, 1, 100)\n",
    "    \n",
    "    fig, ax = plt.subplots()\n",
    "    for i, (train_index, test_index) in enumerate(cv.split(X, y)):\n",
    "        classifier.fit(X.iloc[train_index], y.iloc[train_index])\n",
    "        viz = RocCurveDisplay.from_estimator(\n",
    "            classifier,\n",
    "            X.iloc[test_index],\n",
    "            y.iloc[test_index],\n",
    "            name=\"ROC fold {}\".format(i),\n",
    "            alpha=0.3,\n",
    "            lw=1,\n",
    "            ax=ax,\n",
    "        )\n",
    "        #interp_tpr = np.interp(mean_fpr, viz.fpr, viz.tpr)\n",
    "        interp_tpr = np.interp(mean_fpr, viz.fpr, viz.tpr)\n",
    "        interp_tpr[0] = 0.0\n",
    "        tprs.append(interp_tpr)\n",
    "        aucs.append(viz.roc_auc)\n",
    "    \n",
    "    ax.plot([0, 1], [0, 1], linestyle=\"--\", lw=2, color=\"r\", label=\"Chance\", alpha=0.8)\n",
    "    \n",
    "    mean_tpr = np.mean(tprs, axis=0)\n",
    "    mean_tpr[-1] = 1.0\n",
    "    mean_auc = auc(mean_fpr, mean_tpr)\n",
    "    std_auc = np.std(aucs)\n",
    "    ax.plot(\n",
    "        mean_fpr,\n",
    "        mean_tpr,\n",
    "        color=\"b\",\n",
    "        label=r\"Mean ROC (AUC = %0.2f $\\pm$ %0.2f)\" % (mean_auc, std_auc),\n",
    "        lw=2,\n",
    "        alpha=0.8,\n",
    "    )\n",
    "    \n",
    "    std_tpr = np.std(tprs, axis=0)\n",
    "    tprs_upper = np.minimum(mean_tpr + std_tpr, 1)\n",
    "    tprs_lower = np.maximum(mean_tpr - std_tpr, 0)\n",
    "    ax.fill_between(\n",
    "        mean_fpr,\n",
    "        tprs_lower,\n",
    "        tprs_upper,\n",
    "        color=\"grey\",\n",
    "        alpha=0.2,\n",
    "        label=r\"$\\pm$ 1 std. dev.\",\n",
    "    )\n",
    "    \n",
    "    ax.set(\n",
    "        xlim=[-0.05, 1.05],\n",
    "        ylim=[-0.05, 1.05],\n",
    "        title=\"Receiver operating characteristic: \" + plot_title,\n",
    "    )\n",
    "    ax.legend(loc=\"lower right\")\n",
    "    plt.show()\n",
    "    return(mean_auc)"
   ]
  },
  {
   "cell_type": "code",
   "execution_count": 56,
   "metadata": {},
   "outputs": [
    {
     "data": {
      "image/png": "[encoded data removed]",
      "text/plain": [
       "<Figure size 640x480 with 1 Axes>"
      ]
     },
     "metadata": {},
     "output_type": "display_data"
    }
   ],
   "source": [
    "# plot ROC curve (results of cross validaiton) fro the best model\n",
    "DT_ROC = ROC_curve(X, y, classifier=grid_DT.best_estimator_, cv=3, plot_title=\"Decision Tree\")"
   ]
  },
  {
   "cell_type": "markdown",
   "metadata": {},
   "source": [
    "One can see that fro decisoin tree, the ROC curve does not get very close to 1 in the top left corner (compared to othe algorithm that I explore below) and the avergae AUC value is 0.91.\n",
    "\n",
    "Note that \"spam\" is considered the positive label."
   ]
  },
  {
   "cell_type": "markdown",
   "metadata": {},
   "source": [
    "-----------\n",
    "Ada Boost Classifier\n",
    "---------------"
   ]
  },
  {
   "cell_type": "markdown",
   "metadata": {},
   "source": [
    "Second algorithm to consider is an ensemble Ada boost classifier (base estimator is decisoiin tree with max depth=1). I first consider the basic algorithm and measure the accuracy (using cross vlaidation) and the execution time. "
   ]
  },
  {
   "cell_type": "code",
   "execution_count": 57,
   "metadata": {},
   "outputs": [
    {
     "name": "stdout",
     "output_type": "stream",
     "text": [
      "Process time (CV=3):  40.755127066 s \n",
      "\n",
      "Cross-validation scores:  [0.967169   0.97092084 0.96068928] \n",
      "\n",
      "Avergae of cross-validation scores:  0.966259707593085\n"
     ]
    }
   ],
   "source": [
    "# decision tree clasifier with default settings\n",
    "clf_AB = AdaBoostClassifier()\n",
    "\n",
    "# to measure time needed ot run the model (with cross validation cv=3)\n",
    "start = time.process_time()\n",
    "\n",
    "# calculating cross validation scaore (cv=3) fro the model\n",
    "clf_AB_score_cv= cross_val_score(clf_AB, X, y, cv=3)\n",
    "print('Process time (CV=3): ', time.process_time() - start, 's \\n')\n",
    "print('Cross-validation scores: ', clf_AB_score_cv, '\\n')\n",
    "\n",
    "# calculating average cross validation score (cv=3)\n",
    "clf_AB_score_cv_avg = np.mean(clf_AB_score_cv) \n",
    "print('Avergae of cross-validation scores: ', clf_AB_score_cv_avg)"
   ]
  },
  {
   "cell_type": "markdown",
   "metadata": {},
   "source": [
    "\n",
    "The reuslts show that the execution time is much longer than the decisoion tree (41s vs 9s) and the accuracy is slightly increased (0.97 vs 0.96)."
   ]
  },
  {
   "cell_type": "markdown",
   "metadata": {},
   "source": [
    "#### Hyperparameter tuning\n",
    "\n",
    "After, I perform a hyperparameter tuning (using grid search). \n",
    "Since the excution time is realtively alarge for the Adaboost model on my dataset, I only perform the optimization on two hyperparameters, namely number of estimators (number of tress) and learning rate."
   ]
  },
  {
   "cell_type": "code",
   "execution_count": 58,
   "metadata": {},
   "outputs": [],
   "source": [
    "# performing grid search on number of estimators and learning rate\n",
    "\n",
    "params = {\n",
    "    'n_estimators': [30, 50, 70, 90], \n",
    "    'learning_rate' : np.logspace(-2, 2, num=5, endpoint=True, base=2.0, dtype=None, axis=0)\n",
    "}\n",
    "\n",
    "grid_AB = GridSearchCV(estimator=clf_AB,param_grid=params, cv=3).fit(X, y)"
   ]
  },
  {
   "cell_type": "code",
   "execution_count": 59,
   "metadata": {},
   "outputs": [
    {
     "name": "stdout",
     "output_type": "stream",
     "text": [
      "Best parameters:  {'learning_rate': 1.0, 'n_estimators': 90}\n",
      "best score:  0.9712847691383507\n"
     ]
    }
   ],
   "source": [
    "print('Best parameters: ', grid_AB.best_params_)\n",
    "print('best score: ', grid_AB.best_score_)"
   ]
  },
  {
   "cell_type": "markdown",
   "metadata": {},
   "source": [
    "the results of the hyper prameter tuning show that best model is with 'learning_rate': 1.0, 'n_estimators': 90.\n",
    "I measure once again the run time, using the \"best model\": which shows that the model takes about 72 s to run with accuracy of 0.97 (cross validation cv=3). The execution time is further increased compared to the basic model since the number of estimators (trees) has increased."
   ]
  },
  {
   "cell_type": "code",
   "execution_count": 62,
   "metadata": {},
   "outputs": [
    {
     "name": "stdout",
     "output_type": "stream",
     "text": [
      "Process time (CV=3):  71.83341137899993 s \n",
      "\n"
     ]
    }
   ],
   "source": [
    "# measure time needed ot run the best model (with cross validation cv=3)\n",
    "start = time.process_time()\n",
    "clf_AB_score_cv= cross_val_score(grid_AB.best_estimator_, X, y, cv=3)\n",
    "print('Process time (CV=3): ', time.process_time() - start, 's \\n')"
   ]
  },
  {
   "cell_type": "markdown",
   "metadata": {},
   "source": [
    "#### ROC plot"
   ]
  },
  {
   "cell_type": "code",
   "execution_count": 60,
   "metadata": {},
   "outputs": [
    {
     "data": {
      "image/png": "[encoded data removed]",
      "text/plain": [
       "<Figure size 640x480 with 1 Axes>"
      ]
     },
     "metadata": {},
     "output_type": "display_data"
    }
   ],
   "source": [
    "# plot ROC curve (results of cross validaiton) fro the best model\n",
    "AB_ROC = ROC_curve(X, y, classifier=grid_AB.best_estimator_, cv=3, plot_title=\"Ada boost\")"
   ]
  },
  {
   "cell_type": "markdown",
   "metadata": {},
   "source": [
    "One can see that for Adaboost, the ROC curve looks much better thatn the one for decisoin tree, i.e., gets closer to 1 in the top eft corner  (meaning higher TPR for a relatively low FPR) and the avergae AUC value is 0.97 which is significantly increased compared to the decion tree clasifier (0.91).\n",
    "\n",
    "Note that \"spam\" is considered the positive label."
   ]
  },
  {
   "cell_type": "markdown",
   "metadata": {},
   "source": [
    "-------------------\n",
    "Support Vector Machine\n",
    "--------------------"
   ]
  },
  {
   "cell_type": "markdown",
   "metadata": {},
   "source": [
    "Third algorithm to consider is a support vector machine classifier (with radial basis function kernel, i.e., rbf). \n",
    "I first consider the basic algorithm and measure the accuracy (using cross vlaidation) and the execution time. "
   ]
  },
  {
   "cell_type": "code",
   "execution_count": 63,
   "metadata": {},
   "outputs": [
    {
     "name": "stdout",
     "output_type": "stream",
     "text": [
      "Process time (CV=3):  145.65233821099991 s \n",
      "\n",
      "Cross-validation scores:  [0.9752422  0.97415186 0.97738288] \n",
      "\n",
      "Avergae of cross-validation scores:  0.9755923097835381\n"
     ]
    }
   ],
   "source": [
    "clf_SVM = SVC()\n",
    "start = time.process_time()\n",
    "clf_SVM_score_cv= cross_val_score(clf_SVM, X, y, cv=3)\n",
    "print('Process time (CV=3): ', time.process_time() - start, 's \\n')\n",
    "print('Cross-validation scores: ', clf_SVM_score_cv, '\\n')\n",
    "clf_SVM_score_cv_avg = np.mean(clf_SVM_score_cv) \n",
    "print('Avergae of cross-validation scores: ', clf_SVM_score_cv_avg)"
   ]
  },
  {
   "cell_type": "markdown",
   "metadata": {},
   "source": [
    "The reuslts show that the run time is much more than both decisoion tree and Adaboost classifiers(146s vs. 9s, 41s respectively) and the accuracy is slightly increased (0.98 vs. 0.96, 0.97 respectively)."
   ]
  },
  {
   "cell_type": "markdown",
   "metadata": {},
   "source": [
    "#### Hyperparameter tuning\n",
    "\n",
    "After, I perform a hyperparameter tuning (using grid search). Since, on my datset, the execution time is very large for the SVM model on my dataset, I perfom the optimization only on two hyper parameters, namely C (Regularization parameter) and class weight (no weight or balanced)"
   ]
  },
  {
   "cell_type": "code",
   "execution_count": 74,
   "metadata": {},
   "outputs": [],
   "source": [
    "# performing grid search on number of estimators and learning rate\n",
    "\n",
    "params = {\n",
    "    'C': np.logspace(-5, 5, num=11, endpoint=True, base=2.0, dtype=None, axis=0),\n",
    "    'class_weight': [None, 'balanced']\n",
    "}\n",
    "\n",
    "grid_SVM = GridSearchCV(estimator=clf_SVM,param_grid=params, cv=3).fit(X, y)"
   ]
  },
  {
   "cell_type": "code",
   "execution_count": 75,
   "metadata": {},
   "outputs": [
    {
     "name": "stdout",
     "output_type": "stream",
     "text": [
      "Best parameters:  {'C': 0.5, 'class_weight': 'balanced'}\n",
      "best score:  0.9797199630023155\n"
     ]
    }
   ],
   "source": [
    "print('Best parameters: ', grid_SVM.best_params_)\n",
    "print('best score: ', grid_SVM.best_score_)"
   ]
  },
  {
   "cell_type": "markdown",
   "metadata": {},
   "source": [
    "the results of the hyper prameter tuning show that best model is with 'C': 0.5, 'class_weight': 'balanced'.\n",
    "I measure once again the run time using the \"best model\": which shows that the model takes about 175 s to run with accuracy of 0.98 (cross validation cv=3). The run time is slightly increased compared t0 the basic model."
   ]
  },
  {
   "cell_type": "code",
   "execution_count": 76,
   "metadata": {},
   "outputs": [
    {
     "name": "stdout",
     "output_type": "stream",
     "text": [
      "Process time (CV=3):  174.96628243099985 s \n",
      "\n"
     ]
    }
   ],
   "source": [
    "# measure time needed ot run the best model (with cross validation cv=3)\n",
    "start = time.process_time()\n",
    "clf_AB_score_cv= cross_val_score(grid_SVM.best_estimator_, X, y, cv=3)\n",
    "print('Process time (CV=3): ', time.process_time() - start, 's \\n')"
   ]
  },
  {
   "cell_type": "markdown",
   "metadata": {},
   "source": [
    "#### ROC plot"
   ]
  },
  {
   "cell_type": "code",
   "execution_count": 77,
   "metadata": {},
   "outputs": [
    {
     "data": {
      "image/png": "[encoded data removed]",
      "text/plain": [
       "<Figure size 640x480 with 1 Axes>"
      ]
     },
     "metadata": {},
     "output_type": "display_data"
    }
   ],
   "source": [
    "# plot ROC curve (results of cross validaiton) fro the best model\n",
    "SVM_ROC = ROC_curve(X, y, classifier=grid_SVM.best_estimator_, cv=3, plot_title=\"SVM (rbf)\")"
   ]
  },
  {
   "cell_type": "markdown",
   "metadata": {},
   "source": [
    "One can see that for SVM, the ROC curve looks very good, i.e, very close to 1 in the top eft corner  and the avergae AUC value is 0.98 which is significantly increased compared to the decion tree clasifier (0.91) and is slighly higher than the one of Adaboost (0.97)."
   ]
  },
  {
   "cell_type": "markdown",
   "metadata": {},
   "source": [
    "-------------\n",
    "Discussion and Conclusion\n",
    "--------------"
   ]
  },
  {
   "cell_type": "markdown",
   "metadata": {},
   "source": [
    "Here is summary of results with 3 different algorthms: Note that results are from the \"best model\", i.e., outcome of the hyperparameter tuning and based on cross validation with cv=3:"
   ]
  },
  {
   "cell_type": "code",
   "execution_count": 96,
   "metadata": {},
   "outputs": [
    {
     "data": {
      "image/png": "[encoded data removed]",
      "text/plain": [
       "<Figure size 640x480 with 1 Axes>"
      ]
     },
     "metadata": {},
     "output_type": "display_data"
    },
    {
     "data": {
      "image/png": "[encoded data removed]",
      "text/plain": [
       "<Figure size 10x10 with 1 Axes>"
      ]
     },
     "metadata": {},
     "output_type": "display_data"
    },
    {
     "data": {
      "image/png": "[encoded data removed]",
      "text/plain": [
       "<Figure size 10x10 with 1 Axes>"
      ]
     },
     "metadata": {},
     "output_type": "display_data"
    },
    {
     "data": {
      "image/png": "[encoded data removed]",
      "text/plain": [
       "<Figure size 10x10 with 1 Axes>"
      ]
     },
     "metadata": {},
     "output_type": "display_data"
    }
   ],
   "source": [
    "# to plot ROC of all 3 models in one figure for comparison\n",
    "\n",
    "#3 models:\n",
    "best_models = [grid_DT.best_estimator_, grid_AB.best_estimator_, grid_SVM.best_estimator_]\n",
    "Model_name = ['DT', 'AB', 'SVM'] \n",
    "color_list = ['b', 'g', 'k']\n",
    "\n",
    "fig, ax = plt.subplots()\n",
    "for j, classifier in enumerate(best_models):\n",
    "    fig1, ax1 = plt.subplots()\n",
    "    fig1.set_figheight(0.1)\n",
    "    fig1.set_figwidth(0.1)\n",
    "\n",
    "    cv = StratifiedKFold(n_splits=3, shuffle=True, random_state=0)\n",
    "    # Run classifier with cross-validation and plot ROC curves\n",
    "    \n",
    "    tprs = []\n",
    "    aucs = []\n",
    "    mean_fpr = np.linspace(0, 1, 100)\n",
    "    \n",
    "    \n",
    "    for i, (train_index, test_index) in enumerate(cv.split(X, y)):\n",
    "        classifier.fit(X.iloc[train_index], y.iloc[train_index])\n",
    "        viz = RocCurveDisplay.from_estimator(\n",
    "            classifier,\n",
    "            X.iloc[test_index],\n",
    "            y.iloc[test_index],\n",
    "            name=None,\n",
    "            alpha=0.3,\n",
    "            lw=1,\n",
    "            ax=ax1,\n",
    "        )\n",
    "        #interp_tpr = np.interp(mean_fpr, viz.fpr, viz.tpr)\n",
    "        interp_tpr = np.interp(mean_fpr, viz.fpr, viz.tpr)\n",
    "        interp_tpr[0] = 0.0\n",
    "        tprs.append(interp_tpr)\n",
    "        aucs.append(viz.roc_auc)\n",
    "    if j==0:\n",
    "        ax.plot([0, 1], [0, 1], linestyle=\"--\", lw=2, color=\"r\", label=\"Chance\", alpha=0.8)\n",
    "    \n",
    "    mean_tpr = np.mean(tprs, axis=0)\n",
    "    mean_tpr[-1] = 1.0\n",
    "    mean_auc = auc(mean_fpr, mean_tpr)\n",
    "    std_auc = np.std(aucs)\n",
    "    ax.plot(\n",
    "        mean_fpr,\n",
    "        mean_tpr,\n",
    "        color=color_list[j],\n",
    "        label=r\"Mean ROC (AUC = %0.2f $\\pm$ %0.2f): \" % (mean_auc, std_auc) + Model_name[j],\n",
    "        lw=2,\n",
    "        alpha=0.8,\n",
    "    )\n",
    "    \n",
    "    std_tpr = np.std(tprs, axis=0)\n",
    "    tprs_upper = np.minimum(mean_tpr + std_tpr, 1)\n",
    "    tprs_lower = np.maximum(mean_tpr - std_tpr, 0)\n",
    "    ax.fill_between(\n",
    "        mean_fpr,\n",
    "        tprs_lower,\n",
    "        tprs_upper,\n",
    "        color=\"grey\",\n",
    "        alpha=0.2,\n",
    "        #label=r\"$\\pm$ 1 std. dev.\",\n",
    "    )\n",
    "    \n",
    "    ax.set(\n",
    "        xlim=[-0.05, 1.05],\n",
    "        ylim=[-0.05, 1.05],\n",
    "        title=\"Receiver operating characteristic: DT vs. AB vs. SVM\",\n",
    "        ylabel= \"TPR\",\n",
    "        xlabel = 'FPR'\n",
    "    )\n",
    "    ax1.set_visible(False)\n",
    "\n",
    "ax.legend(loc=\"lower right\")\n",
    "ax.set_visible(True)\n"
   ]
  },
  {
   "cell_type": "markdown",
   "metadata": {},
   "source": [
    "|  | Decision tree | Ada boost | SVM |\n",
    "| --- | --- | --- | --- |\n",
    "| Accuracy:| 0.96 | 0.97 | 0.98 |\n",
    "| AUC:| 0.91 | 0.97 | 0.98 |\n",
    "| Time:| 9.4 s | 71.8 s | 175.0 |\n",
    "\n"
   ]
  },
  {
   "cell_type": "markdown",
   "metadata": {},
   "source": [
    "\n",
    "Based on these results, one can conclude that all 3 models have high accuracy and AUC values.\n",
    "In addition, both Ada boost and SVM algorithms significantly improve the AUC value (compared to decisoiin tree) and therefore have comparatively superior classification performance (reaching 0.97-0.98 AUC value). The ROC curve above shows that the SVM model has slighly better performance compared to the Ada boost model.\n",
    "\n",
    "However, both models (and especially the SVM models) require a significantly higher computational time for the training of the model compared to the deciosin tree algorithm. \n",
    "\n",
    "In conclusion, the choice of the model is a trade-off between the available computational resources and the required classification accuracy. \n",
    "\n",
    "As noted earlier, due to the large execution time needed for Adaboost and SVM models, I did not perform a full hyperparameter optimzation on all parameters. In order to further improve the performance of those models one can perform a more thorough hyperparameter tuning."
   ]
  },
  {
   "cell_type": "code",
   "execution_count": null,
   "metadata": {},
   "outputs": [],
   "source": []
  }
 ],
 "metadata": {
  "kernelspec": {
   "display_name": "Python 3 (ipykernel)",
   "language": "python",
   "name": "python3"
  },
  "language_info": {
   "codemirror_mode": {
    "name": "ipython",
    "version": 3
   },
   "file_extension": ".py",
   "mimetype": "text/x-python",
   "name": "python",
   "nbconvert_exporter": "python",
   "pygments_lexer": "ipython3",
   "version": "3.10.12"
  }
 },
 "nbformat": 4,
 "nbformat_minor": 4
}
